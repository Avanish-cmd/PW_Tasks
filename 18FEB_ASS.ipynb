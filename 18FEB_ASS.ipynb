{
 "cells": [
  {
   "cell_type": "code",
   "execution_count": null,
   "id": "0a16d656-f6ba-4830-8486-bd38eb83367f",
   "metadata": {},
   "outputs": [],
   "source": []
  },
  {
   "cell_type": "markdown",
   "id": "c3b35521-0179-4ac4-be89-5812cdaa0053",
   "metadata": {},
   "source": [
    "# Q1. What is an API? Give an example, where an API is used in real life."
   ]
  },
  {
   "cell_type": "markdown",
   "id": "62ef015e-a73f-46a0-a349-67b272e7f25a",
   "metadata": {},
   "source": [
    "### API stands for Application Programming Interface. An API is a set of protocols, tools, and standards for building software applications that specify how different software components should interact with each other. In simpler terms, it's a way for different applications to talk to each other and exchange information.\n",
    "### An example of where an API is used in real life is in the context of online shopping. Many online retailers provide APIs that allow other applications to access their product data and integrate it into their own applications. For example, a mobile app that helps users compare prices across multiple online retailers might use APIs to access product information from several different retailers and present it in a single interface."
   ]
  },
  {
   "cell_type": "code",
   "execution_count": null,
   "id": "029710c1-b1aa-4ac5-bf5e-826f851f13cc",
   "metadata": {},
   "outputs": [],
   "source": []
  },
  {
   "cell_type": "markdown",
   "id": "a6aefa2b-cc11-4cd5-ba55-9a94a61bdf18",
   "metadata": {},
   "source": [
    "# Q2. Give advantages and disadvantages of using API."
   ]
  },
  {
   "cell_type": "markdown",
   "id": "c83acd1d-5047-4c78-a863-2c56881c34e3",
   "metadata": {},
   "source": [
    "# Advantages \n",
    "### Simplify Development: APIs make it easier for developers to build applications that interact with other systems or services.\n",
    "### Save Time and Resources: APIs can save time and resources because developers can leverage pre-existing functionality without having to build it from scratch.\n",
    "\n",
    "# DisAdvantages\n",
    "### Security Risks: APIs can create security risks if not properly secured.\n",
    "### Complexity: APIs can be complex and require significant technical expertise to implement and use effectively."
   ]
  },
  {
   "cell_type": "code",
   "execution_count": null,
   "id": "75cb66f0-a677-45ab-89d2-8206e18ddde3",
   "metadata": {},
   "outputs": [],
   "source": []
  },
  {
   "cell_type": "markdown",
   "id": "41cc4fe1-c4c2-4f8d-8b6d-c58853d86401",
   "metadata": {},
   "source": [
    "# Q3. What is a Web API? Differentiate between API and Web API."
   ]
  },
  {
   "cell_type": "markdown",
   "id": "a29bceb4-e902-4c29-966e-bece38efed97",
   "metadata": {},
   "source": [
    "### A Web API (Application Programming Interface) is an API that allows communication between different software systems through the internet using web technologies such as HTTP, JSON, and XML. \n",
    "### Protocol: APIs can use various protocols for communication such as TCP, UDP, or even SMS, while Web APIs use the standard HTTP protocol for communication over the internet.\n",
    "### Data Formats: APIs can use a wide range of data formats, such as XML, JSON, and CSV, while Web APIs primarily use JSON or XML data formats."
   ]
  },
  {
   "cell_type": "code",
   "execution_count": null,
   "id": "61666e37-3a4c-41ad-ad9a-58e52e1baeb5",
   "metadata": {},
   "outputs": [],
   "source": []
  },
  {
   "cell_type": "markdown",
   "id": "e83d2581-fa60-4338-8ae3-4c4c8fe2687d",
   "metadata": {},
   "source": [
    "# Q5. Differentiate between REST and SOAP."
   ]
  },
  {
   "cell_type": "markdown",
   "id": "3e626110-043f-45c2-9152-ed5f617c0aa5",
   "metadata": {},
   "source": [
    "### Protocol: REST stands for Representational State Transfer and uses the standard HTTP protocol for communication over the internet. SOAP stands for Simple Object Access Protocol and can use various protocols such as HTTP, SMTP, or JMS.\n",
    "### Data Format: REST primarily uses JSON and XML data formats, while SOAP uses XML exclusively.\n",
    "### Messaging Style: REST uses a resource-oriented messaging style, where each resource is identified by a unique URL and can be manipulated using standard HTTP methods like GET, POST, PUT, and DELETE. SOAP uses a message-oriented style and messages are defined using a standard XML schema."
   ]
  },
  {
   "cell_type": "code",
   "execution_count": null,
   "id": "4ae0c31a-b976-42f2-84d5-081dfbb1ed07",
   "metadata": {},
   "outputs": [],
   "source": []
  }
 ],
 "metadata": {
  "kernelspec": {
   "display_name": "Python 3 (ipykernel)",
   "language": "python",
   "name": "python3"
  },
  "language_info": {
   "codemirror_mode": {
    "name": "ipython",
    "version": 3
   },
   "file_extension": ".py",
   "mimetype": "text/x-python",
   "name": "python",
   "nbconvert_exporter": "python",
   "pygments_lexer": "ipython3",
   "version": "3.10.8"
  }
 },
 "nbformat": 4,
 "nbformat_minor": 5
}

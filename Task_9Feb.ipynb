{
 "cells": [
  {
   "cell_type": "markdown",
   "id": "718b6dc5-7de3-4823-aac4-afe67193ff1b",
   "metadata": {},
   "source": [
    "# TASK 9 FEB OOP TASK 2"
   ]
  },
  {
   "cell_type": "markdown",
   "id": "91a29646-647f-42f0-9994-eef2831b8b2e",
   "metadata": {},
   "source": [
    "### Q1, Create a vehicle class with an init method having instance variables as name_of_vehicle, max_speed\n",
    "### and average_of_vehicle."
   ]
  },
  {
   "cell_type": "code",
   "execution_count": 24,
   "id": "f072d58f-2b1c-4c84-b3e4-3ad83ba4537c",
   "metadata": {},
   "outputs": [],
   "source": [
    "class Vehicle():\n",
    "    def __init__(self, name, max_speed, average):\n",
    "        self.name_of_vehicle = name\n",
    "        self.max_speed = max_speed\n",
    "        self.average_of_vehicle = average\n",
    "    "
   ]
  },
  {
   "cell_type": "code",
   "execution_count": 25,
   "id": "3db0b041-22a9-4318-836c-e96657f7370d",
   "metadata": {},
   "outputs": [],
   "source": [
    "kia = Vehicle(\"seltoz\", 160, 15)"
   ]
  },
  {
   "cell_type": "code",
   "execution_count": 26,
   "id": "1cc563a3-3cf7-40bc-ac17-992f52acf5ba",
   "metadata": {},
   "outputs": [],
   "source": [
    "vehicle = Vehicle(\"Vehicle\", 150, 60)"
   ]
  },
  {
   "cell_type": "code",
   "execution_count": null,
   "id": "06d2bc6a-7520-46ea-8732-24de4192441a",
   "metadata": {},
   "outputs": [],
   "source": []
  },
  {
   "cell_type": "markdown",
   "id": "d7ee013d-5b5d-4b3a-a823-ce4bb8775175",
   "metadata": {},
   "source": [
    "### Q2. Create a child class car from the vehicle class created in Que 1, which will inherit the vehicle class.\n",
    "### Create a method named seating_capacity which takes capacity as an argument and returns the name of\n",
    "### the vehicle and its seating capacity."
   ]
  },
  {
   "cell_type": "code",
   "execution_count": 28,
   "id": "eee1be21-bbbb-4072-99ca-b59f0ee9491d",
   "metadata": {},
   "outputs": [],
   "source": [
    "class Car(Vehicle):\n",
    "    def seating_capacity(self,capacity):\n",
    "        return f\"{self.name_of_vehicle} has a seating capacity of {capacity}\""
   ]
  },
  {
   "cell_type": "code",
   "execution_count": 30,
   "id": "5aee6f15-3432-4bb2-aea3-e4a8679fe408",
   "metadata": {},
   "outputs": [],
   "source": [
    "Seltoz = Car(\"Car\", 200, 70)"
   ]
  },
  {
   "cell_type": "code",
   "execution_count": null,
   "id": "443c8c9e-9d63-4663-b273-42f0937b4e8c",
   "metadata": {},
   "outputs": [],
   "source": []
  },
  {
   "cell_type": "markdown",
   "id": "800a8c35-43f4-46d2-9740-1216f9fa9fcf",
   "metadata": {},
   "source": [
    "### Q3. What is multiple inheritance? Write a python code to demonstrate multiple inheritance."
   ]
  },
  {
   "cell_type": "markdown",
   "id": "52befe05-5a87-4ca9-a984-9b818604e6a1",
   "metadata": {},
   "source": [
    "### INHERITANCE \n",
    "### Multiple inheritance is a feature of object-oriented programming languages that allows a class to inherit properties \n",
    "### and characteristics from multiple parent classes. \n",
    "### This allows a class to inherit attributes and behaviors from multiple classes, rather than just a single parent class."
   ]
  },
  {
   "cell_type": "code",
   "execution_count": 38,
   "id": "d37c0364-05ed-4be8-8732-06832507c84f",
   "metadata": {},
   "outputs": [
    {
     "name": "stdout",
     "output_type": "stream",
     "text": [
      "Hi i am Grandfather of Family\n",
      "Hi i am Grandmother of Fmaily\n"
     ]
    }
   ],
   "source": [
    "class parent1:\n",
    "    def method1(self):\n",
    "        print(\"Hi i am Grandfather of Family\")\n",
    "        \n",
    "class parent2:\n",
    "    def method2(self):\n",
    "        print(\"Hi i am Grandmother of Fmaily\")\n",
    "        \n",
    "class child(parent1, parent2):\n",
    "    def method3(self):\n",
    "        print(\"Hi i am Father son of grandmother and grandfather\")\n",
    "        \n",
    "child = child()\n",
    "child.method1()\n",
    "child.method2()"
   ]
  },
  {
   "cell_type": "code",
   "execution_count": null,
   "id": "9f071f51-137d-4fa1-a7de-0b233450d982",
   "metadata": {},
   "outputs": [],
   "source": []
  },
  {
   "cell_type": "markdown",
   "id": "fae7cb66-6e6f-4e8b-9156-50f244e313c1",
   "metadata": {},
   "source": [
    "### Q4. What are getter and setter in python? Create a class and create a getter and a setter method in this\n",
    " ### class."
   ]
  },
  {
   "cell_type": "markdown",
   "id": "43e36cf9-20b5-446c-a914-220be1472e75",
   "metadata": {},
   "source": [
    "## ANSWER - \n",
    "### Getters and setters are methods in object-oriented programming (OOP) that allow access to an object's properties by using methods instead of direct access to the object's instance variables.\n",
    "### The purpose of using getters and setters is to provide a way to control access to an object's properties, for example, to enforce some constraints or to perform some calculation when the value of a property is set or retrieved."
   ]
  },
  {
   "cell_type": "code",
   "execution_count": null,
   "id": "22a59fc9-ced0-4a6c-b912-122c2b78b3a7",
   "metadata": {},
   "outputs": [],
   "source": []
  },
  {
   "cell_type": "code",
   "execution_count": 1,
   "id": "503e7006-6c9d-4dd5-ac25-65e03ccebdad",
   "metadata": {},
   "outputs": [],
   "source": [
    "class Car:\n",
    "    def __init__(self, make, model, year):\n",
    "        self.__make = make\n",
    "        self.__model = model\n",
    "        self.__year = year\n",
    "        \n",
    "    # getter1 \n",
    "    @property\n",
    "    def make(self):\n",
    "        return self.__make\n",
    "    \n",
    "    # setter 1\n",
    "    @make.setter\n",
    "    def make(self, make):\n",
    "        if isinstance(make, str):\n",
    "            self.__make = make\n",
    "        else:\n",
    "            raise ValueError(\"Make must be a string.\")\n",
    "        \n",
    "    # getter 2\n",
    "    @property\n",
    "    def model(self):\n",
    "        return self.__model\n",
    "            \n",
    "    # setter 2\n",
    "    @model.setter\n",
    "    def model(self, model_name):\n",
    "        if isinstance(model_name, str):\n",
    "            self.__model = model_name\n",
    "        else :\n",
    "            raise ValueError(\"model name must be string \")\n",
    "       \n",
    "    # getter 3\n",
    "    @property\n",
    "    def year(self):\n",
    "        return self.__year\n",
    "    \n",
    "    # setter 3\n",
    "    @year.setter\n",
    "    def year(self, year):\n",
    "        if isinstance(year, int):\n",
    "            self.__year = year\n",
    "        else :\n",
    "            raise ValueError(\"model name must be int \")\n",
    "    \n",
    "    "
   ]
  },
  {
   "cell_type": "code",
   "execution_count": 3,
   "id": "0bcd0409-4ac6-4da9-9de6-eb0a6d65abe6",
   "metadata": {},
   "outputs": [
    {
     "name": "stdout",
     "output_type": "stream",
     "text": [
      "Toyota\n",
      "Fortuner\n",
      "2021\n"
     ]
    }
   ],
   "source": [
    "car = Car(\"Toyota\", \"Fortuner\", 2021)\n",
    "print(car.make)\n",
    "print(car.model)\n",
    "print(car.year)\n"
   ]
  },
  {
   "cell_type": "code",
   "execution_count": null,
   "id": "9b5461f4-556f-4fd7-9732-2c45101ad4cc",
   "metadata": {},
   "outputs": [],
   "source": []
  },
  {
   "cell_type": "markdown",
   "id": "afe5fe5f-b9da-44fc-98b4-21b77fbbb909",
   "metadata": {},
   "source": [
    "# Q5.What is method overriding in python? Write a python code to demonstrate method overriding."
   ]
  },
  {
   "cell_type": "markdown",
   "id": "55e09ee4-0ee3-4863-8ee8-637d34f8f7e6",
   "metadata": {},
   "source": [
    "### Method Overriding - Method overriding is a feature in object-oriented programming (OOP) where a subclass provides a different implementation for a method that is already defined in its superclass. This allows the subclass to have its own unique behavior, while still inheriting the common behavior of the superclass."
   ]
  },
  {
   "cell_type": "markdown",
   "id": "d0809851-208b-4df0-9225-c1c84a9a931c",
   "metadata": {},
   "source": [
    "### In Python, method overriding is achieved by defining a method with the same name in the subclass as in the superclass. The subclass method will then override the behavior of the superclass method for instances of the subclass. "
   ]
  },
  {
   "cell_type": "code",
   "execution_count": 7,
   "id": "f33c9355-e50f-4a54-aaaf-8806a4f4d92a",
   "metadata": {},
   "outputs": [],
   "source": [
    "class SuperClass:\n",
    "    def method(self):\n",
    "        pass\n",
    "        # Implementation of the method in the superclass\n",
    "\n",
    "class SubClass(SuperClass):\n",
    "    def method(self):\n",
    "        pass\n",
    "        # Implementation of the method in the subclass\n"
   ]
  },
  {
   "cell_type": "code",
   "execution_count": null,
   "id": "6fb3b780-60a1-4d8c-b571-7ffa59e76d36",
   "metadata": {},
   "outputs": [],
   "source": []
  }
 ],
 "metadata": {
  "kernelspec": {
   "display_name": "Python 3 (ipykernel)",
   "language": "python",
   "name": "python3"
  },
  "language_info": {
   "codemirror_mode": {
    "name": "ipython",
    "version": 3
   },
   "file_extension": ".py",
   "mimetype": "text/x-python",
   "name": "python",
   "nbconvert_exporter": "python",
   "pygments_lexer": "ipython3",
   "version": "3.10.8"
  }
 },
 "nbformat": 4,
 "nbformat_minor": 5
}

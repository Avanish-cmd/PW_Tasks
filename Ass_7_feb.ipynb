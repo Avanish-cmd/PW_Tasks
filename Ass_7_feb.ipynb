{
 "cells": [
  {
   "cell_type": "markdown",
   "id": "c6948637-312c-404e-9e88-4cdc84d95c4b",
   "metadata": {},
   "source": [
    "# Q1 Function to Check to Password"
   ]
  },
  {
   "cell_type": "code",
   "execution_count": 91,
   "id": "2e6dd86b-452b-415f-bce0-78e1a194d276",
   "metadata": {},
   "outputs": [],
   "source": [
    "def password_checker1(password):\n",
    "    up_case = 0\n",
    "    lo_case = 0\n",
    "    num = 0\n",
    "    spec_char =0\n",
    "    length = len(password)\n",
    "    if length >= 10:\n",
    "        for char in password:\n",
    "            if ord(char) >=97 and ord(char) <= 122:\n",
    "                lo_case += 1\n",
    "            elif ord(char) >= 65 and ord(char) <= 90:\n",
    "                up_case += 1\n",
    "            elif ord(char) >= 48 and ord(char) <= 58:\n",
    "                num+=1\n",
    "            else :\n",
    "                if (ord(char) >= 32 and ord(char) <= 47) or (ord(char)>=58 and ord(char)<= 64) or(ord(char)>=91 and ord(char)<= 96) or (ord(char)>=123 and ord(char)<= 126) :\n",
    "                    spec_char += 1\n",
    "        print(lo_case)\n",
    "        print(up_case)\n",
    "        print(num)\n",
    "        print(spec_char)\n",
    "        if lo_case >= 2 and up_case >=2 and num >=1 and spec_char >= 3:\n",
    "            return \"Valid String\"\n",
    "        else:\n",
    "            return \"Invalid String\"\n",
    "    else :\n",
    "        return \"Invalid String\"\n",
    "    \n",
    "    "
   ]
  },
  {
   "cell_type": "code",
   "execution_count": 92,
   "id": "acbad5a5-9d86-4d66-b300-2edcc550a601",
   "metadata": {},
   "outputs": [],
   "source": [
    "def password_checker2(password):\n",
    "    up_case = 0\n",
    "    lo_case = 0\n",
    "    num = 0\n",
    "    spec_char =0\n",
    "    length = len(password)\n",
    "    if length >= 10:\n",
    "        for char in password:\n",
    "            if char.isalpha():\n",
    "                if char.islower():\n",
    "                    lo_case+=1\n",
    "                else :\n",
    "                    up_case +=1 \n",
    "            elif char.isnumeric():\n",
    "                num += 1\n",
    "            else :\n",
    "                 if (ord(char) >= 32 and ord(char) <= 47) or (ord(char)>=58 and ord(char)<= 64) or(ord(char)>=91 and ord(char)<= 96) or (ord(char)>=123 and ord(char)<= 126) :\n",
    "                    spec_char += 1\n",
    "        print(lo_case)\n",
    "        print(up_case)\n",
    "        print(num)\n",
    "        print(spec_char)\n",
    "        if lo_case >= 2 and up_case >=2 and num >=1 and spec_char >= 3:\n",
    "            return \"Valid String\"\n",
    "        else:\n",
    "            return \"Invalid String\"\n",
    "    else :\n",
    "        return \"Invalid String\"\n",
    "            "
   ]
  },
  {
   "cell_type": "code",
   "execution_count": 93,
   "id": "8ee63b48-b5f3-46f1-ac6c-515449627e92",
   "metadata": {},
   "outputs": [
    {
     "name": "stdout",
     "output_type": "stream",
     "text": [
      "2\n",
      "2\n",
      "4\n",
      "4\n"
     ]
    },
    {
     "data": {
      "text/plain": [
       "'Valid String'"
      ]
     },
     "execution_count": 93,
     "metadata": {},
     "output_type": "execute_result"
    }
   ],
   "source": [
    "password = \"AVni@20@@@22\"\n",
    "password_checker1(password)"
   ]
  },
  {
   "cell_type": "code",
   "execution_count": 94,
   "id": "e2206fdf-72a9-41d7-925a-162d6442694a",
   "metadata": {},
   "outputs": [
    {
     "name": "stdout",
     "output_type": "stream",
     "text": [
      "2\n",
      "2\n",
      "4\n",
      "4\n"
     ]
    },
    {
     "data": {
      "text/plain": [
       "'Valid String'"
      ]
     },
     "execution_count": 94,
     "metadata": {},
     "output_type": "execute_result"
    }
   ],
   "source": [
    "password = \"AVni@20@@@22\"\n",
    "password_checker2(password)"
   ]
  },
  {
   "cell_type": "code",
   "execution_count": 21,
   "id": "8ff9328a-f420-4ad8-bc2f-533d06c2850e",
   "metadata": {},
   "outputs": [
    {
     "data": {
      "text/plain": [
       "'Invalid String'"
      ]
     },
     "execution_count": 21,
     "metadata": {},
     "output_type": "execute_result"
    }
   ],
   "source": [
    "password_checker(\"password\")"
   ]
  },
  {
   "cell_type": "markdown",
   "id": "10e58c97-ace3-40e1-8061-8b5ddfc68222",
   "metadata": {},
   "source": [
    "# Question 2"
   ]
  },
  {
   "cell_type": "markdown",
   "id": "32b1f0ad-e3f6-442a-aa3a-fb73bdc4f8a5",
   "metadata": {},
   "source": [
    "### Check if the string starts with a particular letter"
   ]
  },
  {
   "cell_type": "code",
   "execution_count": 31,
   "id": "619fe7b4-db82-4aae-888f-6331de66084d",
   "metadata": {},
   "outputs": [
    {
     "data": {
      "text/plain": [
       "True"
      ]
     },
     "execution_count": 31,
     "metadata": {},
     "output_type": "execute_result"
    }
   ],
   "source": [
    "string = \"a1efjheui\"\n",
    "strt = \"a\"\n",
    "ans = lambda string, strt : True if string[0] == strt else False\n",
    "ans(string, strt)"
   ]
  },
  {
   "cell_type": "markdown",
   "id": "921655f8-12c0-403c-a602-f07e1eb2e9cb",
   "metadata": {},
   "source": [
    "### Check if the string is numeric"
   ]
  },
  {
   "cell_type": "code",
   "execution_count": 35,
   "id": "a750f930-88c8-4682-b34c-01176a305e67",
   "metadata": {},
   "outputs": [
    {
     "data": {
      "text/plain": [
       "True"
      ]
     },
     "execution_count": 35,
     "metadata": {},
     "output_type": "execute_result"
    }
   ],
   "source": [
    "string = \"dfheuihwnejkd2bdiufkevdwuyv785749234bsdkjfbdf\"\n",
    "string1 = \"4353454754345\"\n",
    "ans = lambda string : True if string.isnumeric() else False \n",
    "ans(string1)"
   ]
  },
  {
   "cell_type": "markdown",
   "id": "b0d03ef7-cc71-4249-a915-fbb613355b80",
   "metadata": {},
   "source": [
    "### Sort a list of tuples having fruit names and their quantity. [(\"mango\",99),(\"orange\",80), (\"grapes\", 1000)"
   ]
  },
  {
   "cell_type": "code",
   "execution_count": 100,
   "id": "f047374c-ef9f-4e9c-930d-41e04fae6587",
   "metadata": {},
   "outputs": [],
   "source": [
    "l1 =  [(\"mango\",99),(\"orange\",80), (\"grapes\", 1000)] \n",
    "l1.sort(key = lambda x: x[1])"
   ]
  },
  {
   "cell_type": "code",
   "execution_count": 101,
   "id": "c76533f0-3ff6-4112-b691-f511327508eb",
   "metadata": {},
   "outputs": [
    {
     "name": "stdout",
     "output_type": "stream",
     "text": [
      "[('orange', 80), ('mango', 99), ('grapes', 1000)]\n"
     ]
    }
   ],
   "source": [
    "print(l1)"
   ]
  },
  {
   "cell_type": "markdown",
   "id": "c516d4cf-375e-457c-a2df-62d8abba6037",
   "metadata": {},
   "source": [
    "### Find the squares of numbers from 1 to 10Y"
   ]
  },
  {
   "cell_type": "code",
   "execution_count": 40,
   "id": "0f33fad0-7173-4068-9e31-9e8b78d4d688",
   "metadata": {},
   "outputs": [],
   "source": [
    "nums = [1, 2, 3, 4, 5, 6, 7, 8, 9, 10]\n",
    "ans_list = list(map(lambda x : x*x, nums))"
   ]
  },
  {
   "cell_type": "code",
   "execution_count": 41,
   "id": "1e036c5b-42bd-4f35-a0ec-883fb656c8ea",
   "metadata": {},
   "outputs": [
    {
     "name": "stdout",
     "output_type": "stream",
     "text": [
      "[1, 4, 9, 16, 25, 36, 49, 64, 81, 100]\n"
     ]
    }
   ],
   "source": [
    "print(ans_list)"
   ]
  },
  {
   "cell_type": "markdown",
   "id": "12dfc2dc-531a-40e8-bbaa-a4661e8a0890",
   "metadata": {},
   "source": [
    "### Find the cube root of numbers from 1 to 10Y"
   ]
  },
  {
   "cell_type": "code",
   "execution_count": 61,
   "id": "a6ef58a5-58eb-411d-88d9-3223dd4b8935",
   "metadata": {},
   "outputs": [],
   "source": [
    "nums = [1, 2, 3, 4, 5, 6, 7, 8, 9, 10]\n",
    "ans_list = list(map(lambda x : x**(1/3), nums))"
   ]
  },
  {
   "cell_type": "code",
   "execution_count": 62,
   "id": "62f405b8-4931-4e7c-ad51-471f81765263",
   "metadata": {},
   "outputs": [
    {
     "name": "stdout",
     "output_type": "stream",
     "text": [
      "[1.0, 1.2599210498948732, 1.4422495703074083, 1.5874010519681994, 1.7099759466766968, 1.8171205928321397, 1.912931182772389, 2.0, 2.080083823051904, 2.154434690031884]\n"
     ]
    }
   ],
   "source": [
    "print(ans_list)"
   ]
  },
  {
   "cell_type": "markdown",
   "id": "ac3447a3-fa46-482a-9d4e-9fe9be4231e9",
   "metadata": {},
   "source": [
    "### Check if a given number is even"
   ]
  },
  {
   "cell_type": "code",
   "execution_count": 69,
   "id": "0833cf84-0fe5-4b85-95ad-b0d3ae4c9c9b",
   "metadata": {},
   "outputs": [],
   "source": [
    "nums = 8\n",
    "check_even = lambda nums: True if nums%2 ==0 else False"
   ]
  },
  {
   "cell_type": "code",
   "execution_count": 70,
   "id": "3fe080ee-6292-49fb-9e74-e4230a49dd6a",
   "metadata": {},
   "outputs": [
    {
     "data": {
      "text/plain": [
       "False"
      ]
     },
     "execution_count": 70,
     "metadata": {},
     "output_type": "execute_result"
    }
   ],
   "source": [
    "check_even(81)"
   ]
  },
  {
   "cell_type": "code",
   "execution_count": null,
   "id": "aba7ea3d-7941-47c1-a465-8c17d0666b62",
   "metadata": {},
   "outputs": [],
   "source": []
  },
  {
   "cell_type": "markdown",
   "id": "9b12c324-4282-4c35-9112-15ee7945e903",
   "metadata": {},
   "source": [
    "### Filter odd numbers from the given list.\n",
    "### [1,2,3,4,5,6,7,8,9,10]"
   ]
  },
  {
   "cell_type": "code",
   "execution_count": 79,
   "id": "90487f22-c015-4f2b-8ae0-dca71ef772f3",
   "metadata": {},
   "outputs": [],
   "source": [
    "l1 = [1,2,3,4,5,6,7,8,9,10]\n",
    "oddnum = list(filter(lambda x: x%2 != 0, l1))"
   ]
  },
  {
   "cell_type": "code",
   "execution_count": 80,
   "id": "83a4451b-e6a0-4ba0-b61e-7b7cc8bc3da6",
   "metadata": {},
   "outputs": [
    {
     "name": "stdout",
     "output_type": "stream",
     "text": [
      "[1, 3, 5, 7, 9]\n"
     ]
    }
   ],
   "source": [
    "print(oddnum)"
   ]
  },
  {
   "cell_type": "markdown",
   "id": "7e28e3b8-290d-4bb3-bf88-314dc4fd183c",
   "metadata": {},
   "source": [
    "### Sort a list of integers into positive and negative integers lists.\n",
    "### [1,2,3,4,5,6,-1,-2,-3,-4,-5,0]"
   ]
  },
  {
   "cell_type": "code",
   "execution_count": 88,
   "id": "e08fa7ec-2e1c-4f20-932b-2aa22e55261f",
   "metadata": {},
   "outputs": [],
   "source": [
    "l2 = [1,2,3,4,5,6,-1,-2,-3,-4,-5,0]\n",
    "negativelist = list(filter(lambda x : x<0, l2))\n",
    "positivelist = list(filter(lambda x : x>=0, l2))\n"
   ]
  },
  {
   "cell_type": "code",
   "execution_count": 90,
   "id": "084b3cd3-311f-4033-821d-3fc177f66de1",
   "metadata": {},
   "outputs": [
    {
     "name": "stdout",
     "output_type": "stream",
     "text": [
      "[-1, -2, -3, -4, -5]\n",
      "[1, 2, 3, 4, 5, 6, 0]\n"
     ]
    }
   ],
   "source": [
    "print(negativelist)\n",
    "print(positivelist)"
   ]
  },
  {
   "cell_type": "code",
   "execution_count": null,
   "id": "294519ea-736b-4b39-b426-15293bfcfd64",
   "metadata": {},
   "outputs": [],
   "source": []
  }
 ],
 "metadata": {
  "kernelspec": {
   "display_name": "Python 3 (ipykernel)",
   "language": "python",
   "name": "python3"
  },
  "language_info": {
   "codemirror_mode": {
    "name": "ipython",
    "version": 3
   },
   "file_extension": ".py",
   "mimetype": "text/x-python",
   "name": "python",
   "nbconvert_exporter": "python",
   "pygments_lexer": "ipython3",
   "version": "3.10.8"
  }
 },
 "nbformat": 4,
 "nbformat_minor": 5
}

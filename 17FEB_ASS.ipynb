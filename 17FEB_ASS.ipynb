{
 "cells": [
  {
   "cell_type": "code",
   "execution_count": 1,
   "id": "48adc678-481a-4e9b-bf42-c093411f180a",
   "metadata": {},
   "outputs": [],
   "source": [
    "## i will start after video"
   ]
  },
  {
   "cell_type": "markdown",
   "id": "09c54e17-8341-4792-8343-e98b884eac84",
   "metadata": {},
   "source": [
    "# Ques What is MongoDB? Explain non-relational databases in short. In which scenarios it is preferred to use MongoDB over SQL databases?"
   ]
  },
  {
   "cell_type": "code",
   "execution_count": null,
   "id": "114ccb45-bbd2-4210-942e-eda203518a06",
   "metadata": {},
   "outputs": [],
   "source": [
    "### mongodb is the document based database (yaha hum collection banate hai, collection of database), \n",
    "### Collection(in mongodb ) is equivalent to (table in sql )  yaha pahle schema nhi define krna padta hai \n",
    "### DATA(data) AAGYA COLLECTION(coll_pwskills) KE ANDER, COLLECTION AVAILABLE HAI DB(db) KE ANDER, DB(client) CONNECTED HAI CLIENT SE\n",
    "### mongodb is a dicctionary based database (jo collection hum store kr rhe hai usi ko document bolte hai), database ke ander collectionname, collectionme ke ander document\n",
    "### NoSQL databases like MongoDB are a good choice when your data is document-centric and doesn't fit well into the schema of a relational database, when you need to accommodate massive scale, when you are rapidly prototyping\n",
    "### "
   ]
  },
  {
   "cell_type": "markdown",
   "id": "e7c4cc5a-e3b7-4bc5-b2a0-39cbe7df2db9",
   "metadata": {},
   "source": [
    "# State and Explain the features of MongoDB."
   ]
  },
  {
   "cell_type": "markdown",
   "id": "4e1c705b-bfcd-45ae-aba4-5716cc77003b",
   "metadata": {},
   "source": [
    "### MongoDB is a popular document-oriented NoSQL database that is known for its flexibility, scalability, and high performance. \n",
    "### MongoDB uses a document-based data model, which means that it stores data in flexible, semi-structured documents rather than in tables with fixed schemas.\n",
    "### Dynamic schema: MongoDB does not enforce a strict schema on the data\n",
    "### Distributed transactions: MongoDB supports multi-document transactions across multiple collections and databases."
   ]
  },
  {
   "cell_type": "code",
   "execution_count": null,
   "id": "f4b47fb2-ebbb-4512-a580-d5101b1ff766",
   "metadata": {},
   "outputs": [],
   "source": []
  },
  {
   "cell_type": "markdown",
   "id": "076681a8-2f7d-4d26-b504-ae43f08567b6",
   "metadata": {},
   "source": [
    "# Q3. Write a code to connect MongoDB to Python. Also, create a database and a collection in MongoDB."
   ]
  },
  {
   "cell_type": "code",
   "execution_count": null,
   "id": "2f651391-1578-4d95-ac86-f984b786b0c7",
   "metadata": {},
   "outputs": [],
   "source": [
    "import pymongo\n",
    "\n",
    "# Connect to MongoDB\n",
    "client = pymongo.MongoClient(\"mongodb://localhost:27017/\")\n",
    "\n",
    "# Create a database\n",
    "db = client[\"mydatabase\"]\n",
    "\n",
    "# Create a collection\n",
    "collection = db[\"mycollection\"]"
   ]
  },
  {
   "cell_type": "code",
   "execution_count": null,
   "id": "18b81612-56a3-4e07-8155-c4e198beda96",
   "metadata": {},
   "outputs": [],
   "source": []
  },
  {
   "cell_type": "markdown",
   "id": "f4a57a2d-63d2-4a8d-823b-431c01c54039",
   "metadata": {},
   "source": [
    "# Q4. Using the database and the collection created in question number 3, write a code to insert one record,and insert many records. Use the find() and find_one() methods to print the inserted record."
   ]
  },
  {
   "cell_type": "code",
   "execution_count": null,
   "id": "75947747-a7dc-4f73-b9d6-2529ab326724",
   "metadata": {},
   "outputs": [],
   "source": [
    "import pymongo\n",
    "\n",
    "# # Connect to MongoDB\n",
    "# client = pymongo.MongoClient(\"mongodb://localhost:27017/\")\n",
    "# db = client[\"mydatabase\"]\n",
    "# collection = db[\"mycollection\"]\n",
    "\n",
    "# Insert one record\n",
    "record1 = {\"name\": \"John\", \"age\": 30}\n",
    "insert_result = collection.insert_one(record1)\n",
    "print(\"Inserted ID:\", insert_result.inserted_id)\n",
    "\n",
    "# Insert many records\n",
    "records = [\n",
    "    {\"name\": \"Mary\", \"age\": 25},\n",
    "    {\"name\": \"Bob\", \"age\": 40},\n",
    "    {\"name\": \"Sarah\", \"age\": 35}\n",
    "]\n",
    "insert_results = collection.insert_many(records)\n",
    "print(\"Inserted IDs:\", insert_results.inserted_ids)\n",
    "\n",
    "# Find one record\n",
    "result = collection.find_one({\"name\": \"John\"})\n",
    "print(\"Found one record:\", result)\n",
    "\n",
    "# Find all records\n",
    "results = collection.find({})\n",
    "print(\"Found all records:\")\n",
    "for result in results:\n",
    "    print(result)\n"
   ]
  },
  {
   "cell_type": "code",
   "execution_count": null,
   "id": "9dd7a65a-ac43-417e-9c28-7419d6f55127",
   "metadata": {},
   "outputs": [],
   "source": []
  },
  {
   "cell_type": "markdown",
   "id": "505312b5-4013-4fa4-80bd-d910ec01a899",
   "metadata": {},
   "source": [
    "# Q5. Explain how you can use the find() method to query the MongoDB database. Write a simple code to demonstrate this."
   ]
  },
  {
   "cell_type": "code",
   "execution_count": null,
   "id": "667acbac-5d6c-4d64-aba6-7c81afcfbec7",
   "metadata": {},
   "outputs": [],
   "source": [
    "import pymongo\n",
    "\n",
    "# connect to the MongoDB server\n",
    "client = pymongo.MongoClient(\"mongodb://localhost:27017/\")\n",
    "db = client[\"mydatabase\"]\n",
    "collection = db[\"mycollection\"]\n",
    "\n",
    "\n",
    "# define the query\n",
    "query = {\"name\": \"John\"}\n",
    "\n",
    "\n",
    "# use the find() method to search for matching documents\n",
    "results = collection.find(query)\n",
    "\n",
    "# iterate over the matching documents\n",
    "for result in results:\n",
    "    print(result)"
   ]
  },
  {
   "cell_type": "code",
   "execution_count": null,
   "id": "068d5905-ad51-46a0-93e0-cf7db4e15aa9",
   "metadata": {},
   "outputs": [],
   "source": []
  },
  {
   "cell_type": "markdown",
   "id": "6e3ac83f-1b80-4b61-bada-43e2384ba606",
   "metadata": {},
   "source": [
    "# Q6. Explain the sort() method. Give an example to demonstrate sorting in MongoDB."
   ]
  },
  {
   "cell_type": "code",
   "execution_count": null,
   "id": "b078b1fd-25a8-482b-965a-6102b9f35521",
   "metadata": {},
   "outputs": [],
   "source": [
    "import pymongo\n",
    "\n",
    "# connect to the MongoDB server\n",
    "client = pymongo.MongoClient(\"mongodb://localhost:27017/\")\n",
    "\n",
    "# select the database and collection\n",
    "db = client[\"mydatabase\"]\n",
    "collection = db[\"mycollection\"]\n",
    "\n",
    "# define the query\n",
    "query = {\"age\": {\"$gte\": 25}}\n",
    "\n",
    "# use the find() method to search for matching documents\n",
    "results = collection.find(query).sort(\"age\", pymongo.ASCENDING)\n",
    "\n",
    "# iterate over the matching documents\n",
    "for result in results:\n",
    "    print(result)\n"
   ]
  },
  {
   "cell_type": "code",
   "execution_count": null,
   "id": "efa49129-01d9-467f-9798-b5f3d1fdcf49",
   "metadata": {},
   "outputs": [],
   "source": []
  },
  {
   "cell_type": "markdown",
   "id": "6a51c344-c6bc-4754-b759-b879e88d27dd",
   "metadata": {},
   "source": [
    "# Q7. Explain why delete_one(), delete_many(), and drop() is used."
   ]
  },
  {
   "cell_type": "markdown",
   "id": "c85eadc5-deb2-44b5-8a85-bbce040d8d7a",
   "metadata": {},
   "source": [
    "### delete_one(): This method is used to delete a single document from a MongoDB collection that matches a specified filter. It takes one argument, which is a dictionary representing the filter criteria. If more than one document matches the filter, only the first document that is found will be deleted.\n",
    "### delete_many(): This method is used to delete multiple documents from a MongoDB collection that match a specified filter. It takes one argument, which is a dictionary representing the filter criteria. If more than one document matches the filter, all matching documents will be deleted.\n",
    "### drop(): This method is used to remove an entire MongoDB collection. It takes no arguments and simply deletes the entire collection, including all of its documents and indexes."
   ]
  },
  {
   "cell_type": "code",
   "execution_count": null,
   "id": "76e15c59-1d08-44b1-a7fc-480df7b5df57",
   "metadata": {},
   "outputs": [],
   "source": []
  }
 ],
 "metadata": {
  "kernelspec": {
   "display_name": "Python 3 (ipykernel)",
   "language": "python",
   "name": "python3"
  },
  "language_info": {
   "codemirror_mode": {
    "name": "ipython",
    "version": 3
   },
   "file_extension": ".py",
   "mimetype": "text/x-python",
   "name": "python",
   "nbconvert_exporter": "python",
   "pygments_lexer": "ipython3",
   "version": "3.10.8"
  }
 },
 "nbformat": 4,
 "nbformat_minor": 5
}

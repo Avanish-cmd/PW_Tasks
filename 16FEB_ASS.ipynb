{
 "cells": [
  {
   "cell_type": "markdown",
   "id": "67f63bf4-b8ba-42ff-9814-39966dae04b4",
   "metadata": {},
   "source": [
    "## What is a database? Differentiate between SQL and NoSQL databases."
   ]
  },
  {
   "cell_type": "markdown",
   "id": "a2d6c295-5e6a-4d91-b037-4afc74019d03",
   "metadata": {},
   "source": [
    "### A database is an organized collection of structured information, or data, typically stored electronically in a computer system. A database is usually controlled by a database management system (DBMS). \n",
    "### SQL - RELATIONAL DATABASE MANAGEMENT SYSTEM (RDBMS).----  NOSQL - Non-relational or distributed database system\n",
    "### These databases have fixed or static or predefined schema------ They have dynamic schema\n",
    "### These DB are not suited for hierarchical data storage. ----- BEST SUITED\n",
    "### Follows ACID property -------------  \tFollows CAP(consistency, availability, partition tolerance)\n",
    "### Examples: MySQL, PostgreSQL, Oracle, MS-SQL Server, etc ------ SQL Server, etc\tExamples: MongoDB, GraphQL, HBase, Neo4j, Cassandra, etc\n"
   ]
  },
  {
   "cell_type": "code",
   "execution_count": null,
   "id": "42fa75a0-344a-4330-b7d1-015fc3c33482",
   "metadata": {},
   "outputs": [],
   "source": []
  },
  {
   "cell_type": "code",
   "execution_count": 7,
   "id": "bcc0cce2-5627-433f-ae35-e1c8d0b7d4af",
   "metadata": {},
   "outputs": [],
   "source": [
    "## What is DDL? Explain why CREATE, DROP, ALTER, and TRUNCATE are used with an example."
   ]
  },
  {
   "cell_type": "markdown",
   "id": "c6a95f10-6622-444f-9d36-2e90ca3f4587",
   "metadata": {},
   "source": [
    "### Data Definition Language (DDL) is a set of commands used to manipulate data in db.\n",
    "### Create, drop, alter, and truncate are all DDL commands that can be used to modify existing tables or view schemas.\n",
    "### For example, the CREATE command creates a new table with columns such as name and description;\n",
    "### the ALTER command modifies an existing table by adding or dropping columns;\n",
    "### the DROP command drops a complete table from the database;\n",
    "### and the TRUNCATE command deletes all rows from an existing table but not its contents"
   ]
  },
  {
   "cell_type": "code",
   "execution_count": null,
   "id": "e4934103-bee9-4e76-b591-05329f514608",
   "metadata": {},
   "outputs": [],
   "source": []
  },
  {
   "cell_type": "code",
   "execution_count": 2,
   "id": "acb62bed-6515-4bf8-a490-b78cf51e7fa7",
   "metadata": {},
   "outputs": [],
   "source": [
    "# What is DML? Explain INSERT, UPDATE, and DELETE with an example."
   ]
  },
  {
   "cell_type": "markdown",
   "id": "e2493b9a-042d-494b-9b0a-89e1201ac6a9",
   "metadata": {},
   "source": [
    "### Insert, update, and delete are all Data Manipulation Language (DML) commands that can be used to modify existing data. \n",
    "### For ex, the INSERT command adds new rows to a table; the UPDATE command modifies existing data in a table;\n",
    "### and the DELETE command removes existing data from a table."
   ]
  },
  {
   "cell_type": "code",
   "execution_count": null,
   "id": "dd1a5dbc-89d9-44da-90fa-2d939bca04ab",
   "metadata": {},
   "outputs": [],
   "source": []
  },
  {
   "cell_type": "code",
   "execution_count": 1,
   "id": "c4c9bed3-3d3e-4c1a-b757-9e8b8f9e5c1c",
   "metadata": {},
   "outputs": [],
   "source": [
    "# What is DQL? Explain SELECT with an example."
   ]
  },
  {
   "cell_type": "markdown",
   "id": "56441b0b-8d5e-4f65-9f38-583bc0550ad0",
   "metadata": {},
   "source": [
    "##  DQL (Data Query Language) is a programming language used for performing queries on the data within schema objects\n",
    "## Select command is used to fetch the data in a set of records from a table, view or a group of tables, views by making use of SQL joins.\n",
    "##  \"SELECT * FROM Customers WHERE first_name = 'John'\""
   ]
  },
  {
   "cell_type": "code",
   "execution_count": null,
   "id": "03c173a1-f487-490c-add5-c7535f6a1798",
   "metadata": {},
   "outputs": [],
   "source": []
  },
  {
   "cell_type": "code",
   "execution_count": 3,
   "id": "a68e7bc0-8943-461b-81ec-f231ee6042ff",
   "metadata": {},
   "outputs": [],
   "source": [
    "## Explain Primary Key and Foreign Key."
   ]
  },
  {
   "cell_type": "markdown",
   "id": "7b95d81b-6555-4826-a8a2-dec0ea6c9ffa",
   "metadata": {},
   "source": [
    "## Primary Key: A primary key is used to ensure that data in the specific column is unique. A column cannot have NULL values.\n",
    "## A foreign key is a column or group of columns in a relational database table that provides a link between data in two tables. It is a column (or columns) that references a column (most often the primary key) of another table. "
   ]
  },
  {
   "cell_type": "code",
   "execution_count": null,
   "id": "48ce124a-1a3b-4a47-936e-e3bff17cfb1c",
   "metadata": {},
   "outputs": [],
   "source": []
  },
  {
   "cell_type": "markdown",
   "id": "64253e23-b6a3-4164-81be-5e598db88dde",
   "metadata": {},
   "source": [
    "# Write a python code to connect MySQL to python. Explain the cursor() and execute() method."
   ]
  },
  {
   "cell_type": "code",
   "execution_count": null,
   "id": "10028c07-db0a-4d46-9a30-76ec34dc7a8a",
   "metadata": {},
   "outputs": [],
   "source": [
    "import mysql.connector   ### import this library this will help in importing\n",
    "\n",
    "mydb = mysql.connector.connect(     ### here we are connecting database with python python me system configuration daal rhe hai \n",
    "  host=\"localhost\",   ### system kaha hosted hai toh basically lab jaha hosted hai whi system bhi hosted hai \n",
    "  user=\"abc\",\n",
    "  password=\"password\"\n",
    ")\n",
    "\n",
    "## python se sql ki connection ban gya\n",
    "\n",
    "mycursor = mydb.cursor()  ## database ke ek ek rows and columns pe cursor move karega\n",
    "mycursor.execute(\"SHOW DATABASES\") ## executes a specified query, SQL statement, stored procedure, or provider-specific text. on which cursor is pointing\n",
    "for x in mycursor:\n",
    "  print(x)"
   ]
  },
  {
   "cell_type": "code",
   "execution_count": null,
   "id": "9ce56564-7063-4b72-9337-550a6bd3ae06",
   "metadata": {},
   "outputs": [],
   "source": []
  },
  {
   "cell_type": "code",
   "execution_count": null,
   "id": "a430919d-9c49-4775-92f8-a54d8a7377c2",
   "metadata": {},
   "outputs": [],
   "source": [
    "# Give the order of execution of SQL clauses in an SQL query."
   ]
  },
  {
   "cell_type": "code",
   "execution_count": null,
   "id": "2a66532c-1bf0-4251-9ae6-839f28f1ec97",
   "metadata": {},
   "outputs": [],
   "source": [
    "### The order of execution of SQL clauses in an SQL query is \n",
    "### From and Join clauses first, \n",
    "### followed by the Where clause, \n",
    "### Group By clause, Having clause, Select clause, and Order By clause"
   ]
  }
 ],
 "metadata": {
  "kernelspec": {
   "display_name": "Python 3 (ipykernel)",
   "language": "python",
   "name": "python3"
  },
  "language_info": {
   "codemirror_mode": {
    "name": "ipython",
    "version": 3
   },
   "file_extension": ".py",
   "mimetype": "text/x-python",
   "name": "python",
   "nbconvert_exporter": "python",
   "pygments_lexer": "ipython3",
   "version": "3.10.8"
  }
 },
 "nbformat": 4,
 "nbformat_minor": 5
}

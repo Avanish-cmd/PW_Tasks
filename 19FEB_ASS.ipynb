{
 "cells": [
  {
   "cell_type": "code",
   "execution_count": null,
   "id": "4107ce09-264f-41d2-8915-3caf5fbab722",
   "metadata": {},
   "outputs": [],
   "source": [
    "# FLASK ASSINGMENT"
   ]
  },
  {
   "cell_type": "markdown",
   "id": "5ee95a22-fe09-4f84-86fe-4485d1c600d2",
   "metadata": {},
   "source": [
    "# Q1. What is Flask Framework? What are the advantages of Flask Framework?"
   ]
  },
  {
   "cell_type": "markdown",
   "id": "e1d7cddf-97f1-4ca9-bf23-93fd7ee567c5",
   "metadata": {},
   "source": [
    "### Flask is a popular and lightweight web application framework written in Python. It is designed to be easy to use and allows developers to quickly build web applications.\n",
    "### 1. Easy to learn and use. 2. Flexibility.. 3. Minimalistic"
   ]
  },
  {
   "cell_type": "code",
   "execution_count": null,
   "id": "15d38f15-e731-439e-8dd1-b700cd688a3c",
   "metadata": {},
   "outputs": [],
   "source": []
  },
  {
   "cell_type": "markdown",
   "id": "8f52b041-c826-42d3-bea5-88d3f30d45fd",
   "metadata": {},
   "source": [
    "# Q2. Create a simple Flask application to display ‘Hello World!!’. Attach the screenshot of the output in Jupyter Notebook."
   ]
  },
  {
   "cell_type": "code",
   "execution_count": null,
   "id": "b2f67624-ae9b-4981-b7c1-3936a9f738b3",
   "metadata": {},
   "outputs": [],
   "source": [
    "from flask import Flask\n",
    "## to avoid the error run this code in flask by installing requirements \n",
    "app = Flask(__name__)\n",
    "\n",
    "@app.route('/')\n",
    "def hello_world():\n",
    "    return 'Hello World!!'\n",
    "\n",
    "if __name__ == '__main__':\n",
    "    app.run()\n"
   ]
  },
  {
   "cell_type": "code",
   "execution_count": null,
   "id": "bae60a57-80c9-4795-832d-6018dc5d95cd",
   "metadata": {},
   "outputs": [],
   "source": []
  },
  {
   "cell_type": "markdown",
   "id": "4c12d641-bd8f-4ccb-8697-ecbf317a9462",
   "metadata": {},
   "source": [
    "# Q3. What is App routing in Flask? Why do we use app routes?"
   ]
  },
  {
   "cell_type": "markdown",
   "id": "5cd78a40-7e5d-46d5-bbb4-c81f426bf63e",
   "metadata": {},
   "source": [
    "### In Flask, routing refers to the process of mapping a URL to a specific function that handles the request. When a user visits a URL, Flask matches the URL to a specific route and invokes the associated function, which returns the response to the user's browser. This process is known as app routing.\n",
    "### Handling user requests\n",
    "### URL mapping\n",
    "### Separating logic"
   ]
  },
  {
   "cell_type": "code",
   "execution_count": null,
   "id": "b64ab7f2-d4ed-4ab9-9d09-9c2026a9adda",
   "metadata": {},
   "outputs": [],
   "source": []
  },
  {
   "cell_type": "markdown",
   "id": "a07fdcaf-106f-4392-8742-39b0e840003b",
   "metadata": {},
   "source": [
    "# Q4. Create a “/welcome” route to display the welcome message “Welcome to ABC Corporation” and a “/”\n",
    "# route to show the following details:\n",
    "# Company Name: ABC Corporation\n",
    "# Location: India\n",
    "# Contact Detail: 999-999-9999"
   ]
  },
  {
   "cell_type": "code",
   "execution_count": null,
   "id": "5486e7e2-7bb2-4dab-b66b-f61287670195",
   "metadata": {},
   "outputs": [],
   "source": [
    "from flask import Flask\n",
    "\n",
    "app = Flask(__name__)\n",
    "\n",
    "@app.route('/welcome')\n",
    "def welcome():\n",
    "    return 'Welcome to ABC Corporation'\n",
    "\n",
    "@app.route('/')\n",
    "def company_details():\n",
    "    return 'Company Name: ABC Corporation<br>Location: India<br>Contact Detail: 999-999-9999'\n",
    "\n",
    "if __name__ == '__main__':\n",
    "    app.run()\n"
   ]
  },
  {
   "cell_type": "code",
   "execution_count": null,
   "id": "86b13499-18e3-4f31-91e3-7a3d2048e17a",
   "metadata": {},
   "outputs": [],
   "source": []
  },
  {
   "cell_type": "markdown",
   "id": "ae56230b-dd75-47b7-a463-e8643ad9a505",
   "metadata": {},
   "source": [
    "# Q5. What function is used in Flask for URL Building? Write a Python code to demonstrate the working of the url_for() function."
   ]
  },
  {
   "cell_type": "code",
   "execution_count": null,
   "id": "79e10c83-eca9-47ae-9cba-9a0857d73593",
   "metadata": {},
   "outputs": [],
   "source": [
    "### In Flask, the url_for() function is used for URL building. This function generates a URL for the specified endpoint \n",
    "### with the values provided for the parameters. The advantage of using the url_for() function instead of hard-coding the \n",
    "### URL in the templates is that if the URL structure changes, you only need to modify the routing code, and all the templates \n",
    "### that use url_for() will automatically generate the correct URLs.\n",
    "\n",
    "from flask import Flask, url_for\n",
    "\n",
    "app = Flask(__name__)\n",
    "\n",
    "@app.route('/')\n",
    "def index():\n",
    "    return 'This is the homepage'\n",
    "\n",
    "@app.route('/user/<username>')\n",
    "def profile(username):\n",
    "    return f'This is {username}\\'s profile'\n",
    "\n",
    "@app.route('/show_url')\n",
    "def show_url():\n",
    "    # Using url_for() to generate URLs for the index and profile pages\n",
    "    index_url = url_for('index')\n",
    "    profile_url = url_for('profile', username='John')\n",
    "\n",
    "    return f'The URL for the homepage is {index_url}. The URL for John\\'s profile is {profile_url}.'\n",
    "\n",
    "if __name__ == '__main__':\n",
    "    app.run()\n"
   ]
  },
  {
   "cell_type": "code",
   "execution_count": null,
   "id": "fae87d80-18aa-43cb-9485-cf37fd9ac9fd",
   "metadata": {},
   "outputs": [],
   "source": []
  }
 ],
 "metadata": {
  "kernelspec": {
   "display_name": "Python 3 (ipykernel)",
   "language": "python",
   "name": "python3"
  },
  "language_info": {
   "codemirror_mode": {
    "name": "ipython",
    "version": 3
   },
   "file_extension": ".py",
   "mimetype": "text/x-python",
   "name": "python",
   "nbconvert_exporter": "python",
   "pygments_lexer": "ipython3",
   "version": "3.10.8"
  }
 },
 "nbformat": 4,
 "nbformat_minor": 5
}

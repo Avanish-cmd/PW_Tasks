{
 "cells": [
  {
   "cell_type": "code",
   "execution_count": 3,
   "id": "17310789-b834-4695-99d5-a72835204f74",
   "metadata": {},
   "outputs": [],
   "source": [
    "def num_products(a): \n",
    "    ans = 1a\n",
    "    for i in a:\n",
    "        if type(i) == int or type(i) == float:\n",
    "            ans *= i\n",
    "        elif type(i) == list:\n",
    "            for j in i:\n",
    "                if type(j) == int:\n",
    "                    ans *= j\n",
    "        elif type(i) == tuple:\n",
    "            for j in i:\n",
    "                if type(j) == int:\n",
    "                    ans *= j\n",
    "        else:\n",
    "            if type(i) == dict:\n",
    "                for j in i.values():\n",
    "                    if type(j) == int or type(j) == float:\n",
    "                        ans *= j\n",
    "                    elif type(j) == list:\n",
    "                        for k in j:\n",
    "                            if type(k) == int or type(k) == float:\n",
    "                                ans *= k\n",
    "                    else :\n",
    "                        if type(j) == tuple:\n",
    "                            for k in j :\n",
    "                                if type(k) == int or type(k) == tuple:\n",
    "                                    ans *= k\n",
    "    return ans\n",
    "            "
   ]
  },
  {
   "cell_type": "code",
   "execution_count": 4,
   "id": "a22391bb-9fc6-4017-8d71-c5131626b617",
   "metadata": {},
   "outputs": [],
   "source": [
    "a = [1,2,3,4, [44,55,66, True], False, (34,56,78,89,34), {1,2,3,3,2,1}, {1:34, \"key2\": [55, 67, 78, 89], 4: (45,\n",
    "22, 61, 34)}, [56, 'data science'], 'Machine Learning']"
   ]
  },
  {
   "cell_type": "code",
   "execution_count": 5,
   "id": "dde33af7-fe1c-4d30-8bd9-fe5147617ff1",
   "metadata": {},
   "outputs": [
    {
     "data": {
      "text/plain": [
       "172279659957795228284743385088000"
      ]
     },
     "execution_count": 5,
     "metadata": {},
     "output_type": "execute_result"
    }
   ],
   "source": [
    "num_products(a)"
   ]
  },
  {
   "cell_type": "markdown",
   "id": "8e0ed998-014e-40a6-85e2-493ae1ad8e18",
   "metadata": {},
   "source": [
    "# question 2"
   ]
  },
  {
   "cell_type": "markdown",
   "id": "f534612e-4e67-4281-a1d8-cc7002e94241",
   "metadata": {},
   "source": [
    "## Write a python program for encrypting a message sent to you by your friend. The logic of encryption\n",
    "## should be such that, for a the output should be z. For b, the output should be y. For c, the output should\n",
    "## be x respectively. Also, the whitespace should be replaced with a dollar sign. Keep the punctuation\n",
    "## marks unchanged.\n",
    "\n",
    "\n"
   ]
  },
  {
   "cell_type": "code",
   "execution_count": 12,
   "id": "680359dc-5794-4fee-aa29-62777ed406cf",
   "metadata": {},
   "outputs": [],
   "source": [
    "def message_encrypter(msg):\n",
    "    msg = msg.lower()\n",
    "    msg = msg.replace('a','z')\n",
    "    msg = msg.replace('b','y')\n",
    "    msg = msg.replace('c','x')\n",
    "    # msg = msg.replace('d','x')\n",
    "    # msg = msg.replace('c','x')\n",
    "    # msg = msg.replace('c','x')\n",
    "    # msg = msg.replace('c','x')\n",
    "    # msg = msg.replace('c','x')\n",
    "    # msg = msg.replace('c','x')\n",
    "    # msg = msg.replace('c','x')\n",
    "    # msg = msg.replace('c','x')\n",
    "    # msg = msg.replace('c','x')\n",
    "    # msg = msg.replace('c','x')\n",
    "    # msg = msg.replace('c','x')\n",
    "    # msg = msg.replace('c','x')\n",
    "    # msg = msg.replace('c','x')\n",
    "    msg = msg.replace(' ','$')\n",
    "    return msg"
   ]
  },
  {
   "cell_type": "code",
   "execution_count": 13,
   "id": "4464bcf1-da8a-407b-a607-670c9de7585b",
   "metadata": {},
   "outputs": [],
   "source": [
    "msg1 = \"I want to become a Data Scientist.\""
   ]
  },
  {
   "cell_type": "code",
   "execution_count": 14,
   "id": "59968e1e-3257-485c-9035-e3e2a54ee2c4",
   "metadata": {},
   "outputs": [
    {
     "data": {
      "text/plain": [
       "'i$wznt$to$yexome$z$dztz$sxientist.'"
      ]
     },
     "execution_count": 14,
     "metadata": {},
     "output_type": "execute_result"
    }
   ],
   "source": [
    "message_encrypter(msg1)"
   ]
  },
  {
   "cell_type": "code",
   "execution_count": null,
   "id": "4205e0f3-3125-4f5e-8db7-e6a25609be65",
   "metadata": {},
   "outputs": [],
   "source": []
  }
 ],
 "metadata": {
  "kernelspec": {
   "display_name": "Python 3 (ipykernel)",
   "language": "python",
   "name": "python3"
  },
  "language_info": {
   "codemirror_mode": {
    "name": "ipython",
    "version": 3
   },
   "file_extension": ".py",
   "mimetype": "text/x-python",
   "name": "python",
   "nbconvert_exporter": "python",
   "pygments_lexer": "ipython3",
   "version": "3.10.8"
  }
 },
 "nbformat": 4,
 "nbformat_minor": 5
}
